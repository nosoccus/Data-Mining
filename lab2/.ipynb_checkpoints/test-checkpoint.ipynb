{
 "cells": [
  {
   "cell_type": "code",
   "execution_count": 2,
   "metadata": {},
   "outputs": [],
   "source": [
    "import pandas as pd\n",
    "import matplotlib.pyplot as plt"
   ]
  },
  {
   "cell_type": "code",
   "execution_count": 3,
   "metadata": {
    "pycharm": {
     "name": "#%%\n"
    }
   },
   "outputs": [],
   "source": [
    "# Знімаємо обмеження по кількості стовбців\n",
    "pd.set_option('display.max_columns', None)"
   ]
  },
  {
   "cell_type": "code",
   "execution_count": 4,
   "metadata": {
    "pycharm": {
     "name": "#%%\n"
    }
   },
   "outputs": [
    {
     "name": "stdout",
     "output_type": "stream",
     "text": [
      "<class 'pandas.core.frame.DataFrame'>\n",
      "DatetimeIndex: 399282 entries, 2020-11-10 to 2020-01-22\n",
      "Data columns (total 11 columns):\n",
      " #   Column                       Non-Null Count   Dtype \n",
      "---  ------                       --------------   ----- \n",
      " 0   registration_area            399282 non-null  object\n",
      " 1   is_required_hospitalization  399282 non-null  object\n",
      " 2   person_gender                399282 non-null  object\n",
      " 3   person_age_group             399282 non-null  object\n",
      " 4   add_conditions               399282 non-null  object\n",
      " 5   is_medical_worker            399282 non-null  object\n",
      " 6   new_susp                     399282 non-null  int64 \n",
      " 7   new_confirm                  399282 non-null  int64 \n",
      " 8   active_confirm               399282 non-null  int64 \n",
      " 9   new_death                    399282 non-null  int64 \n",
      " 10  new_recover                  399282 non-null  int64 \n",
      "dtypes: int64(5), object(6)\n",
      "memory usage: 36.6+ MB\n",
      "None \n",
      "\n"
     ]
    }
   ],
   "source": [
    "# Парсимо CSV\n",
    "url = \"https://raw.githubusercontent.com/VasiaPiven/covid19_ua/master/covid19_by_area_type_hosp_dynamics.csv\"\n",
    "df = pd.read_csv(url, encoding='utf-8', parse_dates=True, index_col=\"zvit_date\")\n",
    "\n",
    "print(df.info(), \"\\n\")"
   ]
  },
  {
   "cell_type": "code",
   "execution_count": 5,
   "metadata": {
    "pycharm": {
     "name": "#%%\n"
    }
   },
   "outputs": [],
   "source": [
    "# Вибрати дані по одній з областей України\n",
    "df_lviv = df.loc[df[\"registration_area\"] == \"Львівська\"]"
   ]
  },
  {
   "cell_type": "code",
   "execution_count": 6,
   "metadata": {
    "pycharm": {
     "name": "#%%\n"
    }
   },
   "outputs": [],
   "source": [
    "# Згрупувати дані по ознаці “однакова дата”\n",
    "df_date = df_lviv.groupby([\"zvit_date\"]).sum()"
   ]
  },
  {
   "cell_type": "code",
   "execution_count": 7,
   "metadata": {
    "pycharm": {
     "name": "#%%\n"
    }
   },
   "outputs": [
    {
     "name": "stdout",
     "output_type": "stream",
     "text": [
      "            new_susp  new_confirm  active_confirm  new_death  new_recover\n",
      "zvit_date                                                                \n",
      "2020-01-27         1            0               0          0            0\n",
      "2020-01-29         1            0               0          0            0\n",
      "2020-01-31         0            0               0          0            1\n",
      "2020-03-13         1            0               0          0            0\n",
      "2020-03-16         9            0               0          0            0\n",
      "...              ...          ...             ...        ...          ...\n",
      "2020-11-06       546          659           10438          5           76\n",
      "2020-11-07       329          401           10801          8           29\n",
      "2020-11-08       445          242           11004          6           31\n",
      "2020-11-09       539          243           11170         10           67\n",
      "2020-11-10       678          177           11309          2           36\n",
      "\n",
      "[244 rows x 5 columns]\n"
     ]
    }
   ],
   "source": [
    "print(df_date)\n"
   ]
  },
  {
   "cell_type": "code",
   "execution_count": null,
   "metadata": {},
   "outputs": [],
   "source": []
  }
 ],
 "metadata": {
  "kernelspec": {
   "display_name": "Python 3",
   "language": "python",
   "name": "python3"
  },
  "language_info": {
   "codemirror_mode": {
    "name": "ipython",
    "version": 3
   },
   "file_extension": ".py",
   "mimetype": "text/x-python",
   "name": "python",
   "nbconvert_exporter": "python",
   "pygments_lexer": "ipython3",
   "version": "3.9.0"
  }
 },
 "nbformat": 4,
 "nbformat_minor": 1
}
